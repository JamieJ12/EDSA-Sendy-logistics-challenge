{
 "cells": [
  {
   "cell_type": "markdown",
   "metadata": {},
   "source": [
    "## Introduction <a name=\"introduction\"></a>\n",
    "\n",
    "**A model to predict the estimated time of delivery of orders, from the point of driver pickup to the point of arrival at final destination. The solution will help Sendy enhance customer communication and improve the reliability of its service; which will ultimately improve customer experience. In addition, the solution will enable Sendy to realise cost savings, and ultimately reduce the cost of doing business, through improved resource management and planning for order scheduling.**"
   ]
  },
  {
   "cell_type": "markdown",
   "metadata": {},
   "source": [
    "# Table of contents\n",
    "1. [Introduction](#introduction)\n",
    "2. [Importing libraries](#Importing_libraries)\n",
    "3. [Importing datasets](#Importing_datasets)\n",
    "4. [A quick look at how our data is structured](#Data_structure)\n",
    "5. [Data Visualization](#visuals)\n",
    "    1. [Temperature distribution](#temperature)\n",
    "    2. [Vehicle types](#vehicle_types)\n",
    "    3. [Platform types](#platform_types)\n",
    "    4. [Personal or Business](#personal_or_business)\n",
    "    5. [Order placement](#order_placement)\n",
    "        1. [Order placement day of the month](#order_placement_day_of_the_month)\n",
    "        2. [Placement weekday](#placement_weekday)\n",
    "    6. [Order confirmation](#order_confirmation)\n",
    "        1. [Confirmation day of month](#confirmation_day_of_month)\n",
    "        2. [Confirmation weekday](#confirmation_weekday)\n",
    "6. [Data Preprocessing](#data_preprocessing)\n",
    "7. [Modeling](#modeling)\n",
    "    1. [Linear Regression Model](#linear_model)\n",
    "    2. [XGBoost](#xgb)\n",
    "    3. [Random Forest](#random_forest)\n",
    "    4. [Decision Tree](#decision_tree)\n",
    "8. [Conclusion](#conclusion)"
   ]
  },
  {
   "cell_type": "markdown",
   "metadata": {},
   "source": [
    "# Importing libraries <a name=\"Importing_libraries\"></a>"
   ]
  },
  {
   "cell_type": "code",
   "execution_count": null,
   "metadata": {},
   "outputs": [],
   "source": [
    "!pip3 install category_encoders\n",
    "import numpy as np\n",
    "import pandas as pd\n",
    "import seaborn as sns\n",
    "import matplotlib.pyplot as plt\n",
    "from sklearn.linear_model import LinearRegression, Ridge\n",
    "import xgboost as xgb\n",
    "import category_encoders as ce\n",
    "from sklearn.tree import DecisionTreeRegressor\n",
    "from sklearn.ensemble import RandomForestRegressor\n",
    "from sklearn.model_selection import train_test_split, RandomizedSearchCV\n",
    "from sklearn.metrics import mean_squared_error\n",
    "from math import sqrt\n",
    "from datetime import timedelta\n",
    "from scipy.stats import uniform, randint \n",
    "import pickle"
   ]
  },
  {
   "cell_type": "markdown",
   "metadata": {},
   "source": [
    "# Importing datasets <a name=\"Importing_datasets\"></a>"
   ]
  },
  {
   "cell_type": "code",
   "execution_count": null,
   "metadata": {},
   "outputs": [],
   "source": [
    "train = pd.read_csv(\"data/Train.csv\")\n",
    "test = pd.read_csv(\"data/Test.csv\")\n",
    "riders = pd.read_csv(\"data/Riders.csv\")\n",
    "sample_submission = pd.read_csv(\"data/SampleSubmission.csv\")\n",
    "variable_definitions = pd.read_csv(\"data/VariableDefinitions.csv\")"
   ]
  }
 ],
 "metadata": {
  "kernelspec": {
   "display_name": "Python 3",
   "language": "python",
   "name": "python3"
  },
  "language_info": {
   "codemirror_mode": {
    "name": "ipython",
    "version": 3
   },
   "file_extension": ".py",
   "mimetype": "text/x-python",
   "name": "python",
   "nbconvert_exporter": "python",
   "pygments_lexer": "ipython3",
   "version": "3.8.3"
  }
 },
 "nbformat": 4,
 "nbformat_minor": 4
}
